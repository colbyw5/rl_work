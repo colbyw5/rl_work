{
 "cells": [
  {
   "cell_type": "code",
   "execution_count": 1,
   "metadata": {},
   "outputs": [
    {
     "name": "stdout",
     "output_type": "stream",
     "text": [
      "pygame 1.9.6\n",
      "Hello from the pygame community. https://www.pygame.org/contribute.html\n",
      "couldn't import doomish\n",
      "Couldn't import doom\n"
     ]
    }
   ],
   "source": [
    "# importing waterworld environment\n",
    "from ple.games.waterworld import WaterWorld\n",
    "from ple import PLE\n",
    "\n",
    "# import standard utlities\n",
    "import numpy as np\n",
    "import os\n",
    "import random as rng"
   ]
  },
  {
   "cell_type": "code",
   "execution_count": 4,
   "metadata": {},
   "outputs": [
    {
     "name": "stdout",
     "output_type": "stream",
     "text": [
      "Collecting keras-rl\n",
      "\u001b[?25l  Downloading https://files.pythonhosted.org/packages/ab/87/4b57eff8e4bd834cea0a75cd6c58198c9e42be29b600db9c14fafa72ec07/keras-rl-0.4.2.tar.gz (40kB)\n",
      "\u001b[K     |████████████████████████████████| 40kB 1.4MB/s eta 0:00:011\n",
      "\u001b[?25hCollecting keras>=2.0.7\n",
      "\u001b[?25l  Downloading https://files.pythonhosted.org/packages/ad/fd/6bfe87920d7f4fd475acd28500a42482b6b84479832bdc0fe9e589a60ceb/Keras-2.3.1-py2.py3-none-any.whl (377kB)\n",
      "\u001b[K     |████████████████████████████████| 378kB 5.6MB/s eta 0:00:01\n",
      "\u001b[?25hRequirement already satisfied: h5py in /Applications/anaconda3/envs/RL/lib/python3.7/site-packages (from keras>=2.0.7->keras-rl) (2.9.0)\n",
      "Requirement already satisfied: numpy>=1.9.1 in /Applications/anaconda3/envs/RL/lib/python3.7/site-packages (from keras>=2.0.7->keras-rl) (1.17.3)\n",
      "Requirement already satisfied: six>=1.9.0 in /Applications/anaconda3/envs/RL/lib/python3.7/site-packages (from keras>=2.0.7->keras-rl) (1.12.0)\n",
      "Requirement already satisfied: pyyaml in /Applications/anaconda3/envs/RL/lib/python3.7/site-packages (from keras>=2.0.7->keras-rl) (5.1.2)\n",
      "Collecting keras-applications>=1.0.6\n",
      "\u001b[?25l  Downloading https://files.pythonhosted.org/packages/71/e3/19762fdfc62877ae9102edf6342d71b28fbfd9dea3d2f96a882ce099b03f/Keras_Applications-1.0.8-py3-none-any.whl (50kB)\n",
      "\u001b[K     |████████████████████████████████| 51kB 9.4MB/s  eta 0:00:01\n",
      "\u001b[?25hCollecting keras-preprocessing>=1.0.5\n",
      "\u001b[?25l  Downloading https://files.pythonhosted.org/packages/28/6a/8c1f62c37212d9fc441a7e26736df51ce6f0e38455816445471f10da4f0a/Keras_Preprocessing-1.1.0-py2.py3-none-any.whl (41kB)\n",
      "\u001b[K     |████████████████████████████████| 51kB 11.2MB/s eta 0:00:01\n",
      "\u001b[?25hRequirement already satisfied: scipy>=0.14 in /Applications/anaconda3/envs/RL/lib/python3.7/site-packages (from keras>=2.0.7->keras-rl) (1.3.1)\n",
      "Building wheels for collected packages: keras-rl\n",
      "  Building wheel for keras-rl (setup.py) ... \u001b[?25ldone\n",
      "\u001b[?25h  Created wheel for keras-rl: filename=keras_rl-0.4.2-cp37-none-any.whl size=48380 sha256=489453307cc6d07b9d950663ffbd8c53152fa36732c6af0e5ecbf853af025e31\n",
      "  Stored in directory: /Users/colbywilkinson/Library/Caches/pip/wheels/7d/4d/84/9254c9f2e8f51865cb0dac8e79da85330c735551d31f73c894\n",
      "Successfully built keras-rl\n",
      "Installing collected packages: keras-applications, keras-preprocessing, keras, keras-rl\n",
      "Successfully installed keras-2.3.1 keras-applications-1.0.8 keras-preprocessing-1.1.0 keras-rl-0.4.2\n"
     ]
    }
   ],
   "source": []
  },
  {
   "cell_type": "markdown",
   "metadata": {},
   "source": [
    "Getting non-visual state representation based on tutorial: https://pygame-learning-environment.readthedocs.io/en/latest/user/tutorial/non_visual_state.html"
   ]
  },
  {
   "cell_type": "markdown",
   "metadata": {},
   "source": [
    "Function to convert game state to numpy array"
   ]
  },
  {
   "cell_type": "code",
   "execution_count": 2,
   "metadata": {},
   "outputs": [],
   "source": [
    "def process_state(state):\n",
    "    state_vec = np.array([state['player_x'],\n",
    "                          state['player_y'],\n",
    "                          state['player_velocity_x'],\n",
    "                          state['player_velocity_y']])\n",
    "    \n",
    "    state_vec = np.append(state_vec, state['creep_dist']['BAD'])\n",
    "    \n",
    "    return state_vec"
   ]
  },
  {
   "cell_type": "markdown",
   "metadata": {},
   "source": [
    "Initialize game with random agent for future benchmarking"
   ]
  },
  {
   "cell_type": "code",
   "execution_count": 3,
   "metadata": {},
   "outputs": [
    {
     "ename": "SystemExit",
     "evalue": "",
     "output_type": "error",
     "traceback": [
      "An exception has occurred, use %tb to see the full traceback.\n",
      "\u001b[0;31mSystemExit\u001b[0m\n"
     ]
    },
    {
     "name": "stderr",
     "output_type": "stream",
     "text": [
      "/Applications/anaconda3/lib/python3.7/site-packages/IPython/core/interactiveshell.py:3304: UserWarning: To exit: use 'exit', 'quit', or Ctrl-D.\n",
      "  warn(\"To exit: use 'exit', 'quit', or Ctrl-D.\", stacklevel=1)\n"
     ]
    }
   ],
   "source": [
    "game = WaterWorld(width=500, height=500, num_creeps=5)\n",
    "p = PLE(game, display_screen=True, state_preprocessor=process_state)\n",
    "#agent = myAgentHere(input_shape=p.getGameStateDims(), allowed_actions=p.getActionSet())\n",
    "\n",
    "p.init()\n",
    "nb_frames = 10000\n",
    "reward = 0.0\n",
    "rewards = []\n",
    "for i in range(nb_frames):\n",
    "    if p.game_over():\n",
    "        p.reset_game()\n",
    "    state = p.getGameState()\n",
    "    #action = agent.pickAction(reward, state)\n",
    "    action = rng.choice([119, 97, 100, 115])\n",
    "    reward = p.act(action)"
   ]
  },
  {
   "cell_type": "code",
   "execution_count": null,
   "metadata": {},
   "outputs": [],
   "source": []
  },
  {
   "cell_type": "code",
   "execution_count": null,
   "metadata": {},
   "outputs": [],
   "source": []
  }
 ],
 "metadata": {
  "kernelspec": {
   "display_name": "Python 3",
   "language": "python",
   "name": "python3"
  },
  "language_info": {
   "codemirror_mode": {
    "name": "ipython",
    "version": 3
   },
   "file_extension": ".py",
   "mimetype": "text/x-python",
   "name": "python",
   "nbconvert_exporter": "python",
   "pygments_lexer": "ipython3",
   "version": "3.7.5"
  }
 },
 "nbformat": 4,
 "nbformat_minor": 4
}
