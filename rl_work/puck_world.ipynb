{
 "cells": [
  {
   "cell_type": "markdown",
   "metadata": {},
   "source": [
    "Importing environment, state process function and DQN solver function"
   ]
  },
  {
   "cell_type": "code",
   "execution_count": 4,
   "metadata": {},
   "outputs": [],
   "source": [
    "from puckworld import DQNSolver, puckworld"
   ]
  },
  {
   "cell_type": "markdown",
   "metadata": {},
   "source": [
    "Puck World Implementation"
   ]
  },
  {
   "cell_type": "code",
   "execution_count": 5,
   "metadata": {},
   "outputs": [],
   "source": [
    "from math import atan2, sqrt\n",
    "import numpy as np\n",
    "# function to convert game state to np array\n",
    "    \n",
    "def process_state(state):\n",
    "    \n",
    "    location_vec = np.array([state['player_x'],\n",
    "                          state['player_y'],\n",
    "                          state['player_velocity_x'],\n",
    "                          state['player_velocity_y']])\n",
    "    \n",
    "    good_range = sqrt((state['player_x'] - state['good_creep_x'])**2 + (state['player_y'] - state['good_creep_y'])**2)\n",
    "    \n",
    "    bad_range = sqrt((state['player_x'] - state['bad_creep_x'])**2 + (state['player_y'] - state['bad_creep_y'])**2)\n",
    "    \n",
    "    \n",
    "    range_vec = np.append(good_range, bad_range)\n",
    "    \n",
    "    good_bearing = atan2((state['player_x'] - state['good_creep_x']), (state['player_y'] - state['good_creep_y']))\n",
    "    \n",
    "    bad_bearing = atan2((state['player_x'] - state['bad_creep_x']), (state['player_y'] - state['bad_creep_y']))\n",
    "    \n",
    "    bearing_vec = np.append(good_bearing, bad_bearing)\n",
    "    \n",
    "    state_vec = np.concatenate([location_vec, range_vec, bearing_vec])\n",
    "    \n",
    "    return state_vec"
   ]
  },
  {
   "cell_type": "code",
   "execution_count": 6,
   "metadata": {},
   "outputs": [
    {
     "name": "stdout",
     "output_type": "stream",
     "text": [
      "WARNING:tensorflow:From C:\\anaconda\\envs\\rl\\lib\\site-packages\\tensorflow\\python\\framework\\op_def_library.py:263: colocate_with (from tensorflow.python.framework.ops) is deprecated and will be removed in a future version.\n",
      "Instructions for updating:\n",
      "Colocations handled automatically by placer.\n",
      "WARNING:tensorflow:From C:\\anaconda\\envs\\rl\\lib\\site-packages\\tensorflow\\python\\ops\\math_ops.py:3066: to_int32 (from tensorflow.python.ops.math_ops) is deprecated and will be removed in a future version.\n",
      "Instructions for updating:\n",
      "Use tf.cast instead.\n",
      "Run: 1, exploration: 0.4036245882390106, score: -300.7723386994112\n",
      "Run: 2, exploration: 0.14811319969530845, score: -196.02550039573543\n",
      "Run: 3, exploration: 0.0543512971290831, score: -330.34543595639116\n",
      "Run: 4, exploration: 0.019944633602480003, score: -98.89187284470245\n",
      "Run: 5, exploration: 0.01, score: -165.71818592963245\n",
      "Run: 6, exploration: 0.01, score: -127.0407554618796\n",
      "Run: 7, exploration: 0.01, score: -323.80813959512307\n",
      "Run: 8, exploration: 0.01, score: -144.14177911645675\n",
      "Run: 9, exploration: 0.01, score: -65.22398147173953\n",
      "Run: 10, exploration: 0.01, score: -70.87111786266905\n",
      "Run: 11, exploration: 0.01, score: -92.17918317576914\n",
      "Run: 12, exploration: 0.01, score: -93.33024923835183\n"
     ]
    },
    {
     "ename": "SystemExit",
     "evalue": "",
     "output_type": "error",
     "traceback": [
      "An exception has occurred, use %tb to see the full traceback.\n",
      "\u001b[1;31mSystemExit\u001b[0m\n"
     ]
    },
    {
     "name": "stderr",
     "output_type": "stream",
     "text": [
      "C:\\anaconda\\envs\\rl\\lib\\site-packages\\IPython\\core\\interactiveshell.py:3334: UserWarning: To exit: use 'exit', 'quit', or Ctrl-D.\n",
      "  warn(\"To exit: use 'exit', 'quit', or Ctrl-D.\", stacklevel=1)\n"
     ]
    }
   ],
   "source": [
    "puckworld(process_state = process_state)"
   ]
  },
  {
   "cell_type": "code",
   "execution_count": 8,
   "metadata": {},
   "outputs": [
    {
     "ename": "NameError",
     "evalue": "name 'step' is not defined",
     "output_type": "error",
     "traceback": [
      "\u001b[1;31m---------------------------------------------------------------------------\u001b[0m",
      "\u001b[1;31mNameError\u001b[0m                                 Traceback (most recent call last)",
      "\u001b[1;32m<ipython-input-8-7cc06d7d7d00>\u001b[0m in \u001b[0;36m<module>\u001b[1;34m\u001b[0m\n\u001b[1;32m----> 1\u001b[1;33m \u001b[0mstep\u001b[0m\u001b[1;33m\u001b[0m\u001b[1;33m\u001b[0m\u001b[0m\n\u001b[0m",
      "\u001b[1;31mNameError\u001b[0m: name 'step' is not defined"
     ]
    }
   ],
   "source": []
  },
  {
   "cell_type": "markdown",
   "metadata": {},
   "source": [
    "Evaluate trained model"
   ]
  },
  {
   "cell_type": "code",
   "execution_count": null,
   "metadata": {},
   "outputs": [],
   "source": [
    "game = WaterWorld(width=500, height=500, num_creeps=5)\n",
    "p = PLE(game, display_screen=True, state_preprocessor=process_state)\n",
    "#agent = myAgentHere(input_shape=p.getGameStateDims(), allowed_actions=p.getActionSet())\n",
    "\n",
    "p.init()\n",
    "nb_frames = 10000\n",
    "reward = 0.0\n",
    "rewards = []\n",
    "for i in range(nb_frames):\n",
    "    if p.game_over():\n",
    "        p.reset_game()\n",
    "    state = p.getGameState()\n",
    "    #action = agent.pickAction(reward, state)\n",
    "    action = rng.choice([119, 97, 100, 115])\n",
    "    reward = p.act(action)"
   ]
  }
 ],
 "metadata": {
  "kernelspec": {
   "display_name": "Python 3",
   "language": "python",
   "name": "python3"
  }
 },
 "nbformat": 4,
 "nbformat_minor": 4
}
