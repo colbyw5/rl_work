{
 "cells": [
  {
   "cell_type": "code",
   "execution_count": 1,
   "metadata": {},
   "outputs": [
    {
     "name": "stdout",
     "output_type": "stream",
     "text": [
      "pygame 1.9.6\n",
      "Hello from the pygame community. https://www.pygame.org/contribute.html\n",
      "couldn't import doomish\n",
      "Couldn't import doom\n"
     ]
    }
   ],
   "source": [
    "# importing waterworld environment\n",
    "from ple.games.waterworld import WaterWorld\n",
    "from ple import PLE\n",
    "\n",
    "# import standard utlities\n",
    "import numpy as np\n",
    "import os\n",
    "import random as rng"
   ]
  },
  {
   "cell_type": "markdown",
   "metadata": {},
   "source": [
    "Getting non-visual state representation based on tutorial: https://pygame-learning-environment.readthedocs.io/en/latest/user/tutorial/non_visual_state.html"
   ]
  },
  {
   "cell_type": "markdown",
   "metadata": {},
   "source": [
    "Function to convert game state to numpy array"
   ]
  },
  {
   "cell_type": "code",
   "execution_count": 2,
   "metadata": {},
   "outputs": [],
   "source": [
    "def process_state(state):\n",
    "    state_vec = np.array([state['player_x'],\n",
    "                          state['player_y'],\n",
    "                          state['player_velocity_x'],\n",
    "                          state['player_velocity_y']])\n",
    "    \n",
    "    state_vec = np.append(state_vec, state['creep_dist']['BAD'])\n",
    "    \n",
    "    return state_vec"
   ]
  },
  {
   "cell_type": "markdown",
   "metadata": {},
   "source": [
    "Initialize game with random agent for future benchmarking"
   ]
  },
  {
   "cell_type": "code",
   "execution_count": 3,
   "metadata": {},
   "outputs": [
    {
     "ename": "SystemExit",
     "evalue": "",
     "output_type": "error",
     "traceback": [
      "An exception has occurred, use %tb to see the full traceback.\n",
      "\u001b[0;31mSystemExit\u001b[0m\n"
     ]
    },
    {
     "name": "stderr",
     "output_type": "stream",
     "text": [
      "/Applications/anaconda3/lib/python3.7/site-packages/IPython/core/interactiveshell.py:3304: UserWarning: To exit: use 'exit', 'quit', or Ctrl-D.\n",
      "  warn(\"To exit: use 'exit', 'quit', or Ctrl-D.\", stacklevel=1)\n"
     ]
    }
   ],
   "source": [
    "game = WaterWorld(width=500, height=500, num_creeps=5)\n",
    "p = PLE(game, display_screen=True, state_preprocessor=process_state)\n",
    "#agent = myAgentHere(input_shape=p.getGameStateDims(), allowed_actions=p.getActionSet())\n",
    "\n",
    "p.init()\n",
    "nb_frames = 10000\n",
    "reward = 0.0\n",
    "rewards = []\n",
    "for i in range(nb_frames):\n",
    "    if p.game_over():\n",
    "        p.reset_game()\n",
    "    state = p.getGameState()\n",
    "    #action = agent.pickAction(reward, state)\n",
    "    action = rng.choice([119, 97, 100, 115])\n",
    "    reward = p.act(action)"
   ]
  },
  {
   "cell_type": "code",
   "execution_count": null,
   "metadata": {},
   "outputs": [],
   "source": []
  },
  {
   "cell_type": "code",
   "execution_count": null,
   "metadata": {},
   "outputs": [],
   "source": []
  }
 ],
 "metadata": {
  "kernelspec": {
   "display_name": "Python 3",
   "language": "python",
   "name": "python3"
  },
  "language_info": {
   "codemirror_mode": {
    "name": "ipython",
    "version": 3
   },
   "file_extension": ".py",
   "mimetype": "text/x-python",
   "name": "python",
   "nbconvert_exporter": "python",
   "pygments_lexer": "ipython3",
   "version": "3.7.3"
  }
 },
 "nbformat": 4,
 "nbformat_minor": 4
}
